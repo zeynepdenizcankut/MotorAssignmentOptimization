{
 "cells": [
  {
   "attachments": {},
   "cell_type": "markdown",
   "id": "eb00f5ba",
   "metadata": {},
   "source": [
    "## Approach\n",
    "\n",
    "Our algorithm will proceed in the following steps:\n",
    "\n",
    "\n",
    "1.\t[Divide cities/grids to grids/sub-grids](#1) \n",
    "2.\t[Assign orders to grids](#2) \n",
    "3.\t[Assign markets to grids](#3) \n",
    "4.\t[Calculate the number of motors to be assigned to the grids](#4) \n",
    "5.\t[Assign motors to the markets within grids](#5) \n",
    "\n",
    "Dividing cities to grids is being done recursively to minimize computation power."
   ]
  },
  {
   "cell_type": "code",
   "execution_count": 1,
   "id": "89480f55",
   "metadata": {},
   "outputs": [],
   "source": [
    "import pandas as pd \n",
    "import numpy as np\n",
    "from geopy import distance\n",
    "from tqdm import tqdm\n",
    "import math\n",
    "import itertools\n",
    "import warnings\n",
    "warnings.filterwarnings(\"ignore\")"
   ]
  },
  {
   "cell_type": "code",
   "execution_count": 2,
   "id": "fb67a66d",
   "metadata": {},
   "outputs": [],
   "source": [
    "city_markets = pd.read_excel('city_markets.xlsx')\n",
    "city_orders = pd.read_excel('city_orders.xlsx')\n"
   ]
  },
  {
   "cell_type": "code",
   "execution_count": 3,
   "id": "4597f4e6",
   "metadata": {},
   "outputs": [
    {
     "data": {
      "text/html": [
       "<div>\n",
       "<style scoped>\n",
       "    .dataframe tbody tr th:only-of-type {\n",
       "        vertical-align: middle;\n",
       "    }\n",
       "\n",
       "    .dataframe tbody tr th {\n",
       "        vertical-align: top;\n",
       "    }\n",
       "\n",
       "    .dataframe thead th {\n",
       "        text-align: right;\n",
       "    }\n",
       "</style>\n",
       "<table border=\"1\" class=\"dataframe\">\n",
       "  <thead>\n",
       "    <tr style=\"text-align: right;\">\n",
       "      <th></th>\n",
       "      <th>market_coor_x</th>\n",
       "      <th>market_coor_y</th>\n",
       "      <th>market_ID</th>\n",
       "      <th>district</th>\n",
       "    </tr>\n",
       "  </thead>\n",
       "  <tbody>\n",
       "    <tr>\n",
       "      <th>0</th>\n",
       "      <td>39.115752</td>\n",
       "      <td>27.176445</td>\n",
       "      <td>1057</td>\n",
       "      <td>10004</td>\n",
       "    </tr>\n",
       "    <tr>\n",
       "      <th>1</th>\n",
       "      <td>39.112795</td>\n",
       "      <td>27.187978</td>\n",
       "      <td>1071</td>\n",
       "      <td>10004</td>\n",
       "    </tr>\n",
       "    <tr>\n",
       "      <th>2</th>\n",
       "      <td>39.111586</td>\n",
       "      <td>27.172633</td>\n",
       "      <td>1069</td>\n",
       "      <td>10004</td>\n",
       "    </tr>\n",
       "    <tr>\n",
       "      <th>3</th>\n",
       "      <td>39.121336</td>\n",
       "      <td>27.179932</td>\n",
       "      <td>1061</td>\n",
       "      <td>10004</td>\n",
       "    </tr>\n",
       "    <tr>\n",
       "      <th>4</th>\n",
       "      <td>39.118501</td>\n",
       "      <td>27.179032</td>\n",
       "      <td>1077</td>\n",
       "      <td>10004</td>\n",
       "    </tr>\n",
       "  </tbody>\n",
       "</table>\n",
       "</div>"
      ],
      "text/plain": [
       "   market_coor_x  market_coor_y  market_ID  district\n",
       "0      39.115752      27.176445       1057     10004\n",
       "1      39.112795      27.187978       1071     10004\n",
       "2      39.111586      27.172633       1069     10004\n",
       "3      39.121336      27.179932       1061     10004\n",
       "4      39.118501      27.179032       1077     10004"
      ]
     },
     "execution_count": 3,
     "metadata": {},
     "output_type": "execute_result"
    }
   ],
   "source": [
    "city_markets.head()"
   ]
  },
  {
   "cell_type": "code",
   "execution_count": 4,
   "id": "ffdfaa20",
   "metadata": {},
   "outputs": [
    {
     "data": {
      "text/html": [
       "<div>\n",
       "<style scoped>\n",
       "    .dataframe tbody tr th:only-of-type {\n",
       "        vertical-align: middle;\n",
       "    }\n",
       "\n",
       "    .dataframe tbody tr th {\n",
       "        vertical-align: top;\n",
       "    }\n",
       "\n",
       "    .dataframe thead th {\n",
       "        text-align: right;\n",
       "    }\n",
       "</style>\n",
       "<table border=\"1\" class=\"dataframe\">\n",
       "  <thead>\n",
       "    <tr style=\"text-align: right;\">\n",
       "      <th></th>\n",
       "      <th>order_ID</th>\n",
       "      <th>customer_coor_x</th>\n",
       "      <th>customer_coor_y</th>\n",
       "      <th>district</th>\n",
       "    </tr>\n",
       "  </thead>\n",
       "  <tbody>\n",
       "    <tr>\n",
       "      <th>0</th>\n",
       "      <td>6604496</td>\n",
       "      <td>38.325674</td>\n",
       "      <td>27.131048</td>\n",
       "      <td>10009</td>\n",
       "    </tr>\n",
       "    <tr>\n",
       "      <th>1</th>\n",
       "      <td>6604641</td>\n",
       "      <td>38.392046</td>\n",
       "      <td>27.083890</td>\n",
       "      <td>10016</td>\n",
       "    </tr>\n",
       "    <tr>\n",
       "      <th>2</th>\n",
       "      <td>6604764</td>\n",
       "      <td>38.398984</td>\n",
       "      <td>27.164191</td>\n",
       "      <td>10006</td>\n",
       "    </tr>\n",
       "    <tr>\n",
       "      <th>3</th>\n",
       "      <td>6604795</td>\n",
       "      <td>38.316243</td>\n",
       "      <td>27.130417</td>\n",
       "      <td>10009</td>\n",
       "    </tr>\n",
       "    <tr>\n",
       "      <th>4</th>\n",
       "      <td>6604891</td>\n",
       "      <td>38.499003</td>\n",
       "      <td>27.060534</td>\n",
       "      <td>10027</td>\n",
       "    </tr>\n",
       "  </tbody>\n",
       "</table>\n",
       "</div>"
      ],
      "text/plain": [
       "   order_ID  customer_coor_x  customer_coor_y  district\n",
       "0   6604496        38.325674        27.131048     10009\n",
       "1   6604641        38.392046        27.083890     10016\n",
       "2   6604764        38.398984        27.164191     10006\n",
       "3   6604795        38.316243        27.130417     10009\n",
       "4   6604891        38.499003        27.060534     10027"
      ]
     },
     "execution_count": 4,
     "metadata": {},
     "output_type": "execute_result"
    }
   ],
   "source": [
    "city_orders.head()"
   ]
  },
  {
   "cell_type": "markdown",
   "id": "5a5d9970",
   "metadata": {},
   "source": [
    "<a id=\"1\"> </a>\n",
    "### Divide cities/grids to grids/sub-grids \n"
   ]
  },
  {
   "cell_type": "code",
   "execution_count": 5,
   "id": "09ed8c88",
   "metadata": {},
   "outputs": [],
   "source": [
    "latitude_start = 37.632\n",
    "longitude_start = 25.956\n",
    "latitude_end = 39.641\n",
    "longitude_end = 28.796\n",
    "motor_num = 106"
   ]
  },
  {
   "cell_type": "code",
   "execution_count": 6,
   "id": "2434eb48",
   "metadata": {},
   "outputs": [],
   "source": [
    "def calculate_grid(lat_start, lat_end, lon_start,lon_end,num_vehicle):\n",
    "    lat_diff = lat_end - lat_start\n",
    "    lon_diff = lon_end - lon_start\n",
    "    grid_area = (lat_diff*lon_diff)/num_vehicle\n",
    "    grid_edge = np.sqrt(grid_area)\n",
    "    lat_slide = np.round(lat_diff/grid_edge)\n",
    "    lon_slide = np.round(lon_diff/grid_edge)\n",
    "    lat_step_size = lat_diff/lat_slide\n",
    "    lon_step_size = lon_diff/lon_slide\n",
    "    return lat_slide, lon_slide,lat_step_size, lon_step_size"
   ]
  },
  {
   "cell_type": "code",
   "execution_count": 7,
   "id": "16172878",
   "metadata": {},
   "outputs": [],
   "source": [
    "lat_slide, lon_slide, lat_step_size, lon_step_size = calculate_grid(latitude_start, latitude_end, longitude_start,longitude_end, motor_num)\n"
   ]
  },
  {
   "cell_type": "code",
   "execution_count": 8,
   "id": "0dfbd417",
   "metadata": {},
   "outputs": [],
   "source": [
    "def grid_structure(lat_start, lon_start,lat_slide, lon_slide, lat_step_size, lon_step_size):\n",
    "    df_grid = pd.DataFrame()\n",
    "    df_grid['grid_id'] = np.arange(lat_slide*lon_slide)\n",
    "    df_grid['lat_start'] = 0\n",
    "    df_grid['lat_end'] = 0\n",
    "    df_grid['lon_start'] = 0\n",
    "    df_grid['lon_end'] = 0\n",
    "    grid_id = 0\n",
    "    for i in range(lat_slide.astype(int)):\n",
    "        lat_start_ = lat_start + lat_step_size*i\n",
    "        lat_end_ = lat_start_ + lat_step_size\n",
    "        for j in range(lon_slide.astype(int)):\n",
    "            lon_start_ = lon_start + lon_step_size * j\n",
    "            lon_end_ = lon_start_ + lon_step_size   \n",
    "            df_grid.loc[grid_id,'lat_start'] = lat_start_\n",
    "            df_grid.loc[grid_id,'lat_end'] = lat_end_\n",
    "            df_grid.loc[grid_id,'lon_start'] = lon_start_\n",
    "            df_grid.loc[grid_id,'lon_end'] = lon_end_\n",
    "            grid_id+=1\n",
    "    return df_grid       "
   ]
  },
  {
   "cell_type": "code",
   "execution_count": 9,
   "id": "c4eed899",
   "metadata": {},
   "outputs": [],
   "source": [
    "main_grid_df = grid_structure(latitude_start, longitude_start, lat_slide, lon_slide, lat_step_size, lon_step_size)\n"
   ]
  },
  {
   "cell_type": "code",
   "execution_count": 10,
   "id": "d6bc1500",
   "metadata": {},
   "outputs": [
    {
     "data": {
      "text/html": [
       "<div>\n",
       "<style scoped>\n",
       "    .dataframe tbody tr th:only-of-type {\n",
       "        vertical-align: middle;\n",
       "    }\n",
       "\n",
       "    .dataframe tbody tr th {\n",
       "        vertical-align: top;\n",
       "    }\n",
       "\n",
       "    .dataframe thead th {\n",
       "        text-align: right;\n",
       "    }\n",
       "</style>\n",
       "<table border=\"1\" class=\"dataframe\">\n",
       "  <thead>\n",
       "    <tr style=\"text-align: right;\">\n",
       "      <th></th>\n",
       "      <th>grid_id</th>\n",
       "      <th>lat_start</th>\n",
       "      <th>lat_end</th>\n",
       "      <th>lon_start</th>\n",
       "      <th>lon_end</th>\n",
       "    </tr>\n",
       "  </thead>\n",
       "  <tbody>\n",
       "    <tr>\n",
       "      <th>0</th>\n",
       "      <td>0.0</td>\n",
       "      <td>37.632</td>\n",
       "      <td>37.855222</td>\n",
       "      <td>25.956000</td>\n",
       "      <td>26.192667</td>\n",
       "    </tr>\n",
       "    <tr>\n",
       "      <th>1</th>\n",
       "      <td>1.0</td>\n",
       "      <td>37.632</td>\n",
       "      <td>37.855222</td>\n",
       "      <td>26.192667</td>\n",
       "      <td>26.429333</td>\n",
       "    </tr>\n",
       "    <tr>\n",
       "      <th>2</th>\n",
       "      <td>2.0</td>\n",
       "      <td>37.632</td>\n",
       "      <td>37.855222</td>\n",
       "      <td>26.429333</td>\n",
       "      <td>26.666000</td>\n",
       "    </tr>\n",
       "    <tr>\n",
       "      <th>3</th>\n",
       "      <td>3.0</td>\n",
       "      <td>37.632</td>\n",
       "      <td>37.855222</td>\n",
       "      <td>26.666000</td>\n",
       "      <td>26.902667</td>\n",
       "    </tr>\n",
       "    <tr>\n",
       "      <th>4</th>\n",
       "      <td>4.0</td>\n",
       "      <td>37.632</td>\n",
       "      <td>37.855222</td>\n",
       "      <td>26.902667</td>\n",
       "      <td>27.139333</td>\n",
       "    </tr>\n",
       "  </tbody>\n",
       "</table>\n",
       "</div>"
      ],
      "text/plain": [
       "   grid_id  lat_start    lat_end  lon_start    lon_end\n",
       "0      0.0     37.632  37.855222  25.956000  26.192667\n",
       "1      1.0     37.632  37.855222  26.192667  26.429333\n",
       "2      2.0     37.632  37.855222  26.429333  26.666000\n",
       "3      3.0     37.632  37.855222  26.666000  26.902667\n",
       "4      4.0     37.632  37.855222  26.902667  27.139333"
      ]
     },
     "execution_count": 10,
     "metadata": {},
     "output_type": "execute_result"
    }
   ],
   "source": [
    "main_grid_df.head()"
   ]
  },
  {
   "cell_type": "markdown",
   "id": "fc59195b",
   "metadata": {},
   "source": [
    "<a id=\"2\"> </a>\n",
    "### Assign orders to grids\n"
   ]
  },
  {
   "cell_type": "code",
   "execution_count": 11,
   "id": "6eb0c4d9",
   "metadata": {},
   "outputs": [],
   "source": [
    "def order_to_grid(df_order, df_grid):\n",
    "    for idx in df_order.index:\n",
    "        tempID = df_grid[(df_order.loc[idx,'customer_coor_x']>=df_grid.lat_start) & (df_order.loc[idx,'customer_coor_x']<df_grid.lat_end) & (df_order.loc[idx,'customer_coor_y']>=df_grid.lon_start) & (df_order.loc[idx,'customer_coor_y']<df_grid.lon_end)].grid_id\n",
    "        if len(tempID) != 0:\n",
    "            df_order.loc[idx,'grid_id'] = tempID.values[0]\n",
    "        else: \n",
    "            df_order.loc[idx,'grid_id'] = 'out_of_scope'\n",
    "        \n",
    "    return df_order       "
   ]
  },
  {
   "cell_type": "code",
   "execution_count": 12,
   "id": "df48866f",
   "metadata": {},
   "outputs": [],
   "source": [
    "city_orders = order_to_grid(city_orders, main_grid_df) "
   ]
  },
  {
   "cell_type": "code",
   "execution_count": 13,
   "id": "e7ee91ec",
   "metadata": {},
   "outputs": [],
   "source": [
    "#Eliminate out of scope orders\n",
    "city_orders.drop(axis=0, index=city_orders[city_orders.grid_id == 'out_of_scope'].index, inplace=True)\n"
   ]
  },
  {
   "cell_type": "markdown",
   "id": "96e85265",
   "metadata": {},
   "source": [
    "<a id=\"3\"> </a>\n",
    "### Assign markets to grids \n"
   ]
  },
  {
   "cell_type": "code",
   "execution_count": 14,
   "id": "88a6e038",
   "metadata": {},
   "outputs": [],
   "source": [
    "def market_to_grid(df_market, df_grid):\n",
    "    for idx in df_market.index:\n",
    "        tempID = df_grid[(df_market.loc[idx,'market_coor_x']>df_grid.lat_start) & (df_market.loc[idx,'market_coor_x']<df_grid.lat_end) & (df_market.loc[idx,'market_coor_y']>df_grid.lon_start) & (df_market.loc[idx,'market_coor_y']<df_grid.lon_end)].grid_id\n",
    "        if len(tempID) != 0:\n",
    "            df_market.loc[idx,'grid_id'] = tempID.values[0] \n",
    "        else: \n",
    "            df_market.loc[idx,'grid_id'] = 100\n",
    "    return df_market        "
   ]
  },
  {
   "cell_type": "code",
   "execution_count": 15,
   "id": "6609cc99",
   "metadata": {},
   "outputs": [],
   "source": [
    "city_markets = market_to_grid(city_markets,main_grid_df)"
   ]
  },
  {
   "cell_type": "markdown",
   "id": "5d5da7c4",
   "metadata": {},
   "source": [
    "<a id=\"4\"> </a>\n",
    "### Calculate the number of motors to be assigned to the grids \n"
   ]
  },
  {
   "cell_type": "code",
   "execution_count": 16,
   "id": "8ec0de3d",
   "metadata": {},
   "outputs": [],
   "source": [
    "# Number of orders per grid\n",
    "grid_order = city_orders.groupby(['grid_id']).agg({'order_ID':'count'}).reset_index()\n",
    "grid_order.rename(columns={'order_ID':'order_count'},inplace=True)\n",
    "main_grid_df_ = main_grid_df.merge(grid_order, on='grid_id' , how='left')\n",
    "main_grid_df_['order_count'].fillna(0,inplace=True)\n"
   ]
  },
  {
   "cell_type": "code",
   "execution_count": 17,
   "id": "b55f0a62",
   "metadata": {},
   "outputs": [],
   "source": [
    "# Number of markets per grid\n",
    "grid_market_count = city_markets.groupby(['grid_id']).agg({'market_ID':'count'}).reset_index()\n",
    "grid_market_count.rename(columns={'market_ID':'market_count'},inplace=True)\n",
    "main_grid_df_ = main_grid_df_.merge(grid_market_count,on='grid_id' , how='left')\n",
    "main_grid_df_['market_count'].fillna(0,inplace=True)"
   ]
  },
  {
   "cell_type": "code",
   "execution_count": 18,
   "id": "e589ee3e",
   "metadata": {},
   "outputs": [
    {
     "data": {
      "text/html": [
       "<div>\n",
       "<style scoped>\n",
       "    .dataframe tbody tr th:only-of-type {\n",
       "        vertical-align: middle;\n",
       "    }\n",
       "\n",
       "    .dataframe tbody tr th {\n",
       "        vertical-align: top;\n",
       "    }\n",
       "\n",
       "    .dataframe thead th {\n",
       "        text-align: right;\n",
       "    }\n",
       "</style>\n",
       "<table border=\"1\" class=\"dataframe\">\n",
       "  <thead>\n",
       "    <tr style=\"text-align: right;\">\n",
       "      <th></th>\n",
       "      <th>grid_id</th>\n",
       "      <th>lat_start</th>\n",
       "      <th>lat_end</th>\n",
       "      <th>lon_start</th>\n",
       "      <th>lon_end</th>\n",
       "      <th>order_count</th>\n",
       "      <th>market_count</th>\n",
       "    </tr>\n",
       "  </thead>\n",
       "  <tbody>\n",
       "    <tr>\n",
       "      <th>0</th>\n",
       "      <td>7.0</td>\n",
       "      <td>37.632000</td>\n",
       "      <td>37.855222</td>\n",
       "      <td>27.612667</td>\n",
       "      <td>27.849333</td>\n",
       "      <td>1.0</td>\n",
       "      <td>0.0</td>\n",
       "    </tr>\n",
       "    <tr>\n",
       "      <th>1</th>\n",
       "      <td>16.0</td>\n",
       "      <td>37.855222</td>\n",
       "      <td>38.078444</td>\n",
       "      <td>26.902667</td>\n",
       "      <td>27.139333</td>\n",
       "      <td>75.0</td>\n",
       "      <td>10.0</td>\n",
       "    </tr>\n",
       "    <tr>\n",
       "      <th>2</th>\n",
       "      <td>17.0</td>\n",
       "      <td>37.855222</td>\n",
       "      <td>38.078444</td>\n",
       "      <td>27.139333</td>\n",
       "      <td>27.376000</td>\n",
       "      <td>106.0</td>\n",
       "      <td>7.0</td>\n",
       "    </tr>\n",
       "    <tr>\n",
       "      <th>3</th>\n",
       "      <td>18.0</td>\n",
       "      <td>37.855222</td>\n",
       "      <td>38.078444</td>\n",
       "      <td>27.376000</td>\n",
       "      <td>27.612667</td>\n",
       "      <td>35.0</td>\n",
       "      <td>0.0</td>\n",
       "    </tr>\n",
       "    <tr>\n",
       "      <th>4</th>\n",
       "      <td>25.0</td>\n",
       "      <td>38.078444</td>\n",
       "      <td>38.301667</td>\n",
       "      <td>26.192667</td>\n",
       "      <td>26.429333</td>\n",
       "      <td>138.0</td>\n",
       "      <td>5.0</td>\n",
       "    </tr>\n",
       "    <tr>\n",
       "      <th>5</th>\n",
       "      <td>27.0</td>\n",
       "      <td>38.078444</td>\n",
       "      <td>38.301667</td>\n",
       "      <td>26.666000</td>\n",
       "      <td>26.902667</td>\n",
       "      <td>275.0</td>\n",
       "      <td>14.0</td>\n",
       "    </tr>\n",
       "    <tr>\n",
       "      <th>6</th>\n",
       "      <td>28.0</td>\n",
       "      <td>38.078444</td>\n",
       "      <td>38.301667</td>\n",
       "      <td>26.902667</td>\n",
       "      <td>27.139333</td>\n",
       "      <td>524.0</td>\n",
       "      <td>12.0</td>\n",
       "    </tr>\n",
       "    <tr>\n",
       "      <th>7</th>\n",
       "      <td>29.0</td>\n",
       "      <td>38.078444</td>\n",
       "      <td>38.301667</td>\n",
       "      <td>27.139333</td>\n",
       "      <td>27.376000</td>\n",
       "      <td>815.0</td>\n",
       "      <td>30.0</td>\n",
       "    </tr>\n",
       "    <tr>\n",
       "      <th>8</th>\n",
       "      <td>31.0</td>\n",
       "      <td>38.078444</td>\n",
       "      <td>38.301667</td>\n",
       "      <td>27.612667</td>\n",
       "      <td>27.849333</td>\n",
       "      <td>276.0</td>\n",
       "      <td>16.0</td>\n",
       "    </tr>\n",
       "    <tr>\n",
       "      <th>9</th>\n",
       "      <td>32.0</td>\n",
       "      <td>38.078444</td>\n",
       "      <td>38.301667</td>\n",
       "      <td>27.849333</td>\n",
       "      <td>28.086000</td>\n",
       "      <td>202.0</td>\n",
       "      <td>11.0</td>\n",
       "    </tr>\n",
       "  </tbody>\n",
       "</table>\n",
       "</div>"
      ],
      "text/plain": [
       "   grid_id  lat_start    lat_end  lon_start    lon_end  order_count  \\\n",
       "0      7.0  37.632000  37.855222  27.612667  27.849333          1.0   \n",
       "1     16.0  37.855222  38.078444  26.902667  27.139333         75.0   \n",
       "2     17.0  37.855222  38.078444  27.139333  27.376000        106.0   \n",
       "3     18.0  37.855222  38.078444  27.376000  27.612667         35.0   \n",
       "4     25.0  38.078444  38.301667  26.192667  26.429333        138.0   \n",
       "5     27.0  38.078444  38.301667  26.666000  26.902667        275.0   \n",
       "6     28.0  38.078444  38.301667  26.902667  27.139333        524.0   \n",
       "7     29.0  38.078444  38.301667  27.139333  27.376000        815.0   \n",
       "8     31.0  38.078444  38.301667  27.612667  27.849333        276.0   \n",
       "9     32.0  38.078444  38.301667  27.849333  28.086000        202.0   \n",
       "\n",
       "   market_count  \n",
       "0           0.0  \n",
       "1          10.0  \n",
       "2           7.0  \n",
       "3           0.0  \n",
       "4           5.0  \n",
       "5          14.0  \n",
       "6          12.0  \n",
       "7          30.0  \n",
       "8          16.0  \n",
       "9          11.0  "
      ]
     },
     "execution_count": 18,
     "metadata": {},
     "output_type": "execute_result"
    }
   ],
   "source": [
    "main_grid_df_ = main_grid_df_[(main_grid_df_.order_count != 0)]\n",
    "main_grid_df_.reset_index(inplace=True,drop=True)\n",
    "main_grid_df_.head(10)"
   ]
  },
  {
   "cell_type": "code",
   "execution_count": 19,
   "id": "c0f363ad",
   "metadata": {},
   "outputs": [],
   "source": [
    "def assign_motor(df_grid, motor_count):\n",
    "    order_mean = df_grid.order_count.sum()/len(df_grid)\n",
    "    df = df_grid.copy()\n",
    "    df_assigned = []\n",
    "    df['motor_count'] = 0\n",
    "    while motor_count>0:\n",
    "        df.sort_values(by='order_count',inplace=True, ascending=False)\n",
    "        df.reset_index(inplace=True, drop=True)\n",
    "        if df.loc[0,'motor_count'] < df.loc[0,'market_count']:\n",
    "            df.loc[0,'motor_count'] += 1\n",
    "            df.loc[0,'order_count'] -= order_mean\n",
    "            motor_count-=1\n",
    "        else: #motor count is equal market count but order count is still high\n",
    "            df_assigned.append(df.iloc[0])\n",
    "            df = df.iloc[1:]\n",
    "    df_assigned_df = pd.DataFrame(df_assigned) \n",
    "    df = pd.concat([df_assigned_df,df],ignore_index=True)\n",
    "    return df"
   ]
  },
  {
   "cell_type": "code",
   "execution_count": 20,
   "id": "818bcaf6",
   "metadata": {},
   "outputs": [
    {
     "data": {
      "text/html": [
       "<div>\n",
       "<style scoped>\n",
       "    .dataframe tbody tr th:only-of-type {\n",
       "        vertical-align: middle;\n",
       "    }\n",
       "\n",
       "    .dataframe tbody tr th {\n",
       "        vertical-align: top;\n",
       "    }\n",
       "\n",
       "    .dataframe thead th {\n",
       "        text-align: right;\n",
       "    }\n",
       "</style>\n",
       "<table border=\"1\" class=\"dataframe\">\n",
       "  <thead>\n",
       "    <tr style=\"text-align: right;\">\n",
       "      <th></th>\n",
       "      <th>grid_id</th>\n",
       "      <th>lat_start</th>\n",
       "      <th>lat_end</th>\n",
       "      <th>lon_start</th>\n",
       "      <th>lon_end</th>\n",
       "      <th>order_count</th>\n",
       "      <th>market_count</th>\n",
       "      <th>motor_count</th>\n",
       "    </tr>\n",
       "  </thead>\n",
       "  <tbody>\n",
       "    <tr>\n",
       "      <th>0</th>\n",
       "      <td>18.0</td>\n",
       "      <td>37.855222</td>\n",
       "      <td>38.078444</td>\n",
       "      <td>27.376000</td>\n",
       "      <td>27.612667</td>\n",
       "      <td>35.00</td>\n",
       "      <td>0.0</td>\n",
       "      <td>0.0</td>\n",
       "    </tr>\n",
       "    <tr>\n",
       "      <th>1</th>\n",
       "      <td>7.0</td>\n",
       "      <td>37.632000</td>\n",
       "      <td>37.855222</td>\n",
       "      <td>27.612667</td>\n",
       "      <td>27.849333</td>\n",
       "      <td>1.00</td>\n",
       "      <td>0.0</td>\n",
       "      <td>0.0</td>\n",
       "    </tr>\n",
       "    <tr>\n",
       "      <th>2</th>\n",
       "      <td>50.0</td>\n",
       "      <td>38.524889</td>\n",
       "      <td>38.748111</td>\n",
       "      <td>26.429333</td>\n",
       "      <td>26.666000</td>\n",
       "      <td>-1022.36</td>\n",
       "      <td>1.0</td>\n",
       "      <td>1.0</td>\n",
       "    </tr>\n",
       "    <tr>\n",
       "      <th>3</th>\n",
       "      <td>43.0</td>\n",
       "      <td>38.301667</td>\n",
       "      <td>38.524889</td>\n",
       "      <td>27.612667</td>\n",
       "      <td>27.849333</td>\n",
       "      <td>-1047.36</td>\n",
       "      <td>1.0</td>\n",
       "      <td>1.0</td>\n",
       "    </tr>\n",
       "    <tr>\n",
       "      <th>4</th>\n",
       "      <td>33.0</td>\n",
       "      <td>38.078444</td>\n",
       "      <td>38.301667</td>\n",
       "      <td>28.086000</td>\n",
       "      <td>28.322667</td>\n",
       "      <td>-2075.72</td>\n",
       "      <td>2.0</td>\n",
       "      <td>2.0</td>\n",
       "    </tr>\n",
       "  </tbody>\n",
       "</table>\n",
       "</div>"
      ],
      "text/plain": [
       "   grid_id  lat_start    lat_end  lon_start    lon_end  order_count  \\\n",
       "0     18.0  37.855222  38.078444  27.376000  27.612667        35.00   \n",
       "1      7.0  37.632000  37.855222  27.612667  27.849333         1.00   \n",
       "2     50.0  38.524889  38.748111  26.429333  26.666000     -1022.36   \n",
       "3     43.0  38.301667  38.524889  27.612667  27.849333     -1047.36   \n",
       "4     33.0  38.078444  38.301667  28.086000  28.322667     -2075.72   \n",
       "\n",
       "   market_count  motor_count  \n",
       "0           0.0          0.0  \n",
       "1           0.0          0.0  \n",
       "2           1.0          1.0  \n",
       "3           1.0          1.0  \n",
       "4           2.0          2.0  "
      ]
     },
     "execution_count": 20,
     "metadata": {},
     "output_type": "execute_result"
    }
   ],
   "source": [
    "main_grid_motor_assign = assign_motor(main_grid_df_, motor_num)\n",
    "main_grid_motor_assign.head()"
   ]
  },
  {
   "cell_type": "code",
   "execution_count": 21,
   "id": "8acbf2ca",
   "metadata": {},
   "outputs": [],
   "source": [
    "main_grid_motor_assign.grid_id = main_grid_motor_assign.grid_id.astype(str)\n",
    "city_markets.grid_id = city_markets.grid_id.astype(str) \n",
    "city_orders.grid_id = city_orders.grid_id.astype(str)  \n",
    "main_grid_df_.grid_id = main_grid_df_.grid_id.astype(str)"
   ]
  },
  {
   "cell_type": "code",
   "execution_count": 22,
   "id": "0d2cdeef",
   "metadata": {},
   "outputs": [],
   "source": [
    "city_market_grid = city_markets.merge(main_grid_motor_assign[['grid_id','motor_count','market_count']],on='grid_id',how='left')\n"
   ]
  },
  {
   "cell_type": "code",
   "execution_count": 23,
   "id": "a5db2b7a",
   "metadata": {},
   "outputs": [
    {
     "data": {
      "text/plain": [
       "106.0"
      ]
     },
     "execution_count": 23,
     "metadata": {},
     "output_type": "execute_result"
    }
   ],
   "source": [
    "city_market_grid.drop_duplicates(subset='grid_id',keep='first')['motor_count'].sum()"
   ]
  },
  {
   "cell_type": "markdown",
   "id": "040389f3",
   "metadata": {},
   "source": [
    "### Divide grids to subgrids - recursive "
   ]
  },
  {
   "cell_type": "code",
   "execution_count": 24,
   "id": "c7f7e81d",
   "metadata": {},
   "outputs": [],
   "source": [
    "## If a grid combination is higher than 500 \n",
    "def grid_division(main_grid_motor_assign, market_df, order_df, idx_to_drop):\n",
    "    main_grid_motor_assign['upper_id'] = 0\n",
    "    for idx in main_grid_motor_assign.index:\n",
    "        combination_count = math.comb(int(main_grid_motor_assign.loc[idx,'market_count']),int(main_grid_motor_assign.loc[idx,'motor_count']))\n",
    "        sub_grid_split = []\n",
    "        sub_grid_market = []\n",
    "        if combination_count > 500: \n",
    "            sub_grid_split.append(main_grid_motor_assign.loc[idx,:])\n",
    "            new_df = pd.DataFrame(sub_grid_split)\n",
    "            idx_to_drop.append(new_df.loc[idx,'grid_id'])\n",
    "            reassigned_ID=[]\n",
    "            for idx_ in new_df.index:\n",
    "                new_df.loc[idx_,['lat_slide','lon_slide','lat_step_size','lon_step_size']] = calculate_grid(new_df.loc[idx_,'lat_start'], new_df.loc[idx_,'lat_end'], new_df.loc[idx_,'lon_start'],new_df.loc[idx_,'lon_end'], new_df.loc[idx_,'motor_count'])\n",
    "                temp_df = grid_structure(new_df.loc[idx_,'lat_start'],new_df.loc[idx_,'lon_start'],new_df.loc[idx_,'lat_slide'], new_df.loc[idx_,'lon_slide'],new_df.loc[idx_,'lat_step_size'],new_df.loc[idx_,'lon_step_size'])\n",
    "                temp_df['upper_id'] = new_df.loc[idx_,'grid_id']        \n",
    "                temp_df['grid_id'] = str(new_df.loc[idx_,'grid_id']) + '.' + (temp_df['grid_id'].astype(int)+1).astype(str)\n",
    "                reassigned_ID.append(temp_df) \n",
    "            sub_grids = pd.concat(reassigned_ID)\n",
    "            sub_grids.reset_index(inplace=True,drop=True)\n",
    "            sub_grids['upper_id'] = sub_grids['upper_id'].astype(str)\n",
    "            main_grid_motor_assign['grid_id'] = main_grid_motor_assign['grid_id'].astype(str)\n",
    "            sub_grids = sub_grids.merge(main_grid_motor_assign[['market_count','motor_count','grid_id']], how='left', left_on='upper_id',right_on='grid_id')\n",
    "            sub_grids.drop('grid_id_y',axis=1,inplace=True)\n",
    "            sub_grids.rename(columns={'grid_id_x':'grid_id'},inplace=True)\n",
    "            \n",
    "            #Assign markets to grids \n",
    "            sub_grid_market = market_df[market_df.grid_id.isin(new_df.grid_id)]\n",
    "            sub_grid_market = market_to_grid(sub_grid_market,sub_grids)\n",
    "            \n",
    "            #Assign orders to grids \n",
    "            sub_grid_order = order_df[order_df.grid_id.isin(new_df.grid_id)]\n",
    "            sub_grid_order = order_to_grid(sub_grid_order, sub_grids) \n",
    "            sub_grid_order_ = sub_grid_order.copy()\n",
    "            \n",
    "            #Number of orders per subgrid\n",
    "            sub_grid_order = sub_grid_order.groupby(['grid_id']).agg({'order_ID':'count'}).reset_index()\n",
    "            sub_grid_order.rename(columns={'order_ID':'order_count'},inplace=True)\n",
    "            new_sub_grids = sub_grids.merge(sub_grid_order, on='grid_id' , how='left')\n",
    "            new_sub_grids['order_count'].fillna(0,inplace=True)\n",
    "\n",
    "            #Number of markets per subgrid\n",
    "            sub_grid_market_count = sub_grid_market.groupby(['grid_id']).agg({'market_ID':'count'}).reset_index()\n",
    "            sub_grid_market_count.rename(columns={'market_ID':'market_count'},inplace=True)\n",
    "            new_sub_grids.drop('market_count',axis=1,inplace=True)\n",
    "            new_sub_grids = new_sub_grids.merge(sub_grid_market_count, on='grid_id', how='left')\n",
    "            new_sub_grids['market_count'].fillna(0,inplace=True)\n",
    "            new_sub_grids = new_sub_grids[new_sub_grids['order_count']!=0]\n",
    "            new_sub_grids.reset_index(inplace=True,drop=True)      \n",
    "            \n",
    "            #Calculate the number of motors to be assigned to the subgrids \n",
    "            temp_assigned_motor=[]\n",
    "            new_sub_grids.upper_id = new_sub_grids.upper_id.astype(str)\n",
    "            for upperid in new_sub_grids.upper_id.unique():\n",
    "                temp_df2 = new_sub_grids[new_sub_grids.upper_id==upperid]\n",
    "                temp_df2 = assign_motor(temp_df2, new_sub_grids[new_sub_grids.upper_id==upperid].motor_count.unique()[0])\n",
    "                temp_assigned_motor.append(temp_df2)\n",
    "            subgrid_motor_assigned = pd.concat(temp_assigned_motor)   \n",
    "            subgrid_motor_assigned.reset_index(inplace=True,drop=True)    \n",
    "            subsub_grid, idxs_to_drop = grid_division(subgrid_motor_assigned,sub_grid_market,sub_grid_order_,idx_to_drop)\n",
    "            idx_to_drop = idxs_to_drop + idx_to_drop\n",
    "            grids=pd.concat([subsub_grid,subgrid_motor_assigned],ignore_index=True)\n",
    "            main_grid_motor_assign=pd.concat([main_grid_motor_assign,subgrid_motor_assigned],ignore_index=True)    \n",
    "            if len(main_grid_motor_assign)>1:\n",
    "                main_grid_motor_assign=pd.concat([main_grid_motor_assign,grids],ignore_index=True)\n",
    "            else:\n",
    "                main_grid_motor_assign=grids.copy()\n",
    "        else:\n",
    "            continue\n",
    "    \n",
    "    return main_grid_motor_assign, list(dict.fromkeys(idx_to_drop))\n",
    "    "
   ]
  },
  {
   "cell_type": "code",
   "execution_count": 25,
   "id": "f4899b09",
   "metadata": {},
   "outputs": [],
   "source": [
    "main_grid_motor_assign, idx_to_drop = grid_division(main_grid_motor_assign,city_markets,city_orders,[])\n"
   ]
  },
  {
   "cell_type": "code",
   "execution_count": 26,
   "id": "69ede14b",
   "metadata": {},
   "outputs": [],
   "source": [
    "main_grid_motor_assign = main_grid_motor_assign[~main_grid_motor_assign.grid_id.isin(idx_to_drop)]\n",
    "main_grid_motor_assign.reset_index(drop=True,inplace=True)\n",
    "main_grid_motor_assign.drop(columns=['order_count'],inplace=True)\n",
    "main_grid_motor_assign = main_grid_motor_assign[main_grid_motor_assign.motor_count!=0] "
   ]
  },
  {
   "cell_type": "markdown",
   "id": "eaa7cb1e",
   "metadata": {},
   "source": [
    "### Assign orders and markets to new grids"
   ]
  },
  {
   "cell_type": "code",
   "execution_count": 27,
   "id": "0c14313b",
   "metadata": {},
   "outputs": [],
   "source": [
    "city_orders = order_to_grid(city_orders,main_grid_motor_assign)"
   ]
  },
  {
   "cell_type": "code",
   "execution_count": 28,
   "id": "87aa2353",
   "metadata": {},
   "outputs": [],
   "source": [
    "city_markets = market_to_grid(city_markets, main_grid_motor_assign)"
   ]
  },
  {
   "cell_type": "markdown",
   "id": "7deba18f",
   "metadata": {},
   "source": [
    "### Assign out of scope orders to the nearest grid\n",
    "#### The centroids of the grids should be calculated and assigned to the nearest"
   ]
  },
  {
   "cell_type": "code",
   "execution_count": 29,
   "id": "d1a44118",
   "metadata": {},
   "outputs": [],
   "source": [
    "main_grid_motor_assign['centroid_lat'] = (main_grid_motor_assign['lat_start'] + main_grid_motor_assign['lat_end']) / 2\n",
    "main_grid_motor_assign['centroid_lon'] = (main_grid_motor_assign['lon_start'] + main_grid_motor_assign['lon_end']) / 2"
   ]
  },
  {
   "cell_type": "code",
   "execution_count": 30,
   "id": "26563a67",
   "metadata": {},
   "outputs": [
    {
     "name": "stdout",
     "output_type": "stream",
     "text": [
      "CPU times: user 16.5 s, sys: 75 ms, total: 16.6 s\n",
      "Wall time: 16.6 s\n"
     ]
    }
   ],
   "source": [
    "%%time\n",
    "for idx in city_orders[city_orders.grid_id=='out_of_scope'].index:\n",
    "    order_grid_id = city_orders.loc[idx, 'grid_id']\n",
    "    order_x = city_orders.loc[idx, 'customer_coor_x']\n",
    "    order_y = city_orders.loc[idx, 'customer_coor_y']\n",
    "    min_dist = 100000000\n",
    "    new_grid_id = 0\n",
    "    for grid_id_ in main_grid_motor_assign.index:\n",
    "        dist_ = distance.geodesic((main_grid_motor_assign.loc[grid_id_,'centroid_lat'],main_grid_motor_assign.loc[grid_id_,'centroid_lon']), (order_x, order_y)).kilometers\n",
    "        if(dist_ < min_dist):\n",
    "            min_dist = dist_\n",
    "            new_grid_id = main_grid_motor_assign.loc[grid_id_,'grid_id']\n",
    "    city_orders.loc[idx, 'grid_id'] = new_grid_id\n",
    "    "
   ]
  },
  {
   "cell_type": "markdown",
   "id": "10958fdc",
   "metadata": {},
   "source": [
    "<a id=\"5\"> </a>\n",
    "### Assign motors to the markets within grids\n"
   ]
  },
  {
   "cell_type": "code",
   "execution_count": 31,
   "id": "bc615e2c",
   "metadata": {},
   "outputs": [],
   "source": [
    "#The motor count in the grids where the markets are located has been added to the city_markets df and those with 0 motor count has been eliminated\n",
    "city_markets_ = city_markets.merge(main_grid_motor_assign[['grid_id','motor_count']],how='left',on='grid_id')\n",
    "city_markets_.fillna(0, inplace=True)\n",
    "city_markets_ = city_markets_[city_markets_.motor_count!=0]"
   ]
  },
  {
   "cell_type": "code",
   "execution_count": 32,
   "id": "9ea1523a",
   "metadata": {},
   "outputs": [],
   "source": [
    "city_grid_market_list = city_markets_.groupby('grid_id').agg({'market_ID':'unique','motor_count':'unique'})\n",
    "city_grid_market_list.reset_index(inplace=True)"
   ]
  },
  {
   "cell_type": "code",
   "execution_count": 33,
   "id": "b6df152e",
   "metadata": {},
   "outputs": [],
   "source": [
    "city_grid_market_list['motor_count'] = city_grid_market_list['motor_count'].apply(lambda x: x[0])"
   ]
  },
  {
   "cell_type": "code",
   "execution_count": 34,
   "id": "2bd205dc",
   "metadata": {},
   "outputs": [],
   "source": [
    "def calculate_geodesic_distance(lat1,lon1,lat2,lon2):\n",
    "    return (distance.geodesic((lat1,lon1), (lat2,lon2)).kilometers)"
   ]
  },
  {
   "cell_type": "code",
   "execution_count": 35,
   "id": "21179eb8",
   "metadata": {},
   "outputs": [],
   "source": [
    "def calculate_comb(city_grid_market_list,city_orders_market_gridded):\n",
    "    assign_motors_final = {}\n",
    "    for idx in city_grid_market_list.index:\n",
    "        market_grid_id = city_grid_market_list.loc[idx,'grid_id']\n",
    "        grid_market_list = city_grid_market_list.loc[idx,'market_ID']\n",
    "        combinations_object = itertools.combinations(grid_market_list,int(city_grid_market_list.loc[idx,'motor_count']))\n",
    "        combination_lists = list(combinations_object)\n",
    "        temp_order = city_orders_market_gridded[city_orders_market_gridded.grid_id== market_grid_id]\n",
    "        assign_motors = {}\n",
    "        grid_min_dist = 1000000000000000000000000\n",
    "        for market_comb in tqdm(combination_lists):\n",
    "            market_comb_dist_sum = 0\n",
    "            temp_order['vectorial_dist'] = 1000000000000000000000000\n",
    "            for markets in market_comb:\n",
    "                market_x = city_markets[city_markets.market_ID == markets].market_coor_x.values[0]\n",
    "                market_y = city_markets[city_markets.market_ID == markets].market_coor_y.values[0]\n",
    "                for order_ in temp_order.index:\n",
    "                    temp_dist = calculate_geodesic_distance(market_x,market_y,temp_order.loc[order_,'customer_coor_x'],temp_order.loc[order_,'customer_coor_y'])\n",
    "                    if(temp_dist < temp_order.loc[order_,'vectorial_dist']): #is it minimum distance for the order?\n",
    "                        temp_order.loc[order_,'vectorial_dist'] = temp_dist\n",
    "            market_comb_dist_sum = np.sum(temp_order['vectorial_dist'])\n",
    "            if(market_comb_dist_sum<grid_min_dist):\n",
    "                grid_min_dist = market_comb_dist_sum\n",
    "                grid_market_comb = market_comb\n",
    "        print(market_grid_id, grid_market_comb)\n",
    "        assign_motors[market_grid_id] = grid_market_comb\n",
    "        assign_motors_final.update(assign_motors)\n",
    "    return assign_motors_final  "
   ]
  },
  {
   "cell_type": "code",
   "execution_count": 36,
   "id": "0587c202",
   "metadata": {
    "scrolled": true
   },
   "outputs": [
    {
     "name": "stderr",
     "output_type": "stream",
     "text": [
      "100%|█████████████████████████████████████████| 210/210 [00:13<00:00, 15.79it/s]\n"
     ]
    },
    {
     "name": "stdout",
     "output_type": "stream",
     "text": [
      "16.0 (1409, 1410, 1382, 1562)\n"
     ]
    },
    {
     "name": "stderr",
     "output_type": "stream",
     "text": [
      "100%|███████████████████████████████████████████| 35/35 [00:03<00:00,  9.56it/s]\n"
     ]
    },
    {
     "name": "stdout",
     "output_type": "stream",
     "text": [
      "17.0 (1302, 1301, 1567, 1002)\n"
     ]
    },
    {
     "name": "stderr",
     "output_type": "stream",
     "text": [
      "100%|█████████████████████████████████████████████| 5/5 [00:00<00:00,  9.38it/s]\n"
     ]
    },
    {
     "name": "stdout",
     "output_type": "stream",
     "text": [
      "25.0 (1595, 1008, 1371, 1379)\n"
     ]
    },
    {
     "name": "stderr",
     "output_type": "stream",
     "text": [
      "100%|█████████████████████████████████████████| 495/495 [01:38<00:00,  5.00it/s]\n"
     ]
    },
    {
     "name": "stdout",
     "output_type": "stream",
     "text": [
      "27.0.4 (1297, 1296, 1299, 1560)\n"
     ]
    },
    {
     "name": "stderr",
     "output_type": "stream",
     "text": [
      "100%|█████████████████████████████████████████| 495/495 [03:13<00:00,  2.55it/s]\n"
     ]
    },
    {
     "name": "stdout",
     "output_type": "stream",
     "text": [
      "28.0 (1564, 1549, 1247, 1543)\n"
     ]
    },
    {
     "name": "stderr",
     "output_type": "stream",
     "text": [
      "100%|███████████████████████████████████████████| 45/45 [00:05<00:00,  7.90it/s]\n"
     ]
    },
    {
     "name": "stdout",
     "output_type": "stream",
     "text": [
      "29.0.2.4.2 (1570, 1311)\n"
     ]
    },
    {
     "name": "stderr",
     "output_type": "stream",
     "text": [
      "100%|█████████████████████████████████████████████| 6/6 [00:00<00:00, 22.31it/s]\n"
     ]
    },
    {
     "name": "stdout",
     "output_type": "stream",
     "text": [
      "29.0.2.4.4 (1313,)\n"
     ]
    },
    {
     "name": "stderr",
     "output_type": "stream",
     "text": [
      "100%|█████████████████████████████████████████████| 4/4 [00:00<00:00, 27.94it/s]\n"
     ]
    },
    {
     "name": "stdout",
     "output_type": "stream",
     "text": [
      "29.0.3 (1548,)\n"
     ]
    },
    {
     "name": "stderr",
     "output_type": "stream",
     "text": [
      "100%|█████████████████████████████████████████████| 9/9 [00:00<00:00, 24.14it/s]\n"
     ]
    },
    {
     "name": "stdout",
     "output_type": "stream",
     "text": [
      "29.0.4 (1034,)\n"
     ]
    },
    {
     "name": "stderr",
     "output_type": "stream",
     "text": [
      "100%|███████████████████████████████████████████| 28/28 [00:01<00:00, 17.47it/s]\n"
     ]
    },
    {
     "name": "stdout",
     "output_type": "stream",
     "text": [
      "31.0.1 (1575, 1321)\n"
     ]
    },
    {
     "name": "stderr",
     "output_type": "stream",
     "text": [
      "100%|█████████████████████████████████████████████| 4/4 [00:00<00:00, 37.26it/s]\n"
     ]
    },
    {
     "name": "stdout",
     "output_type": "stream",
     "text": [
      "31.0.2 (1325,)\n"
     ]
    },
    {
     "name": "stderr",
     "output_type": "stream",
     "text": [
      "100%|█████████████████████████████████████████████| 4/4 [00:00<00:00, 59.77it/s]\n"
     ]
    },
    {
     "name": "stdout",
     "output_type": "stream",
     "text": [
      "31.0.3 (1430,)\n"
     ]
    },
    {
     "name": "stderr",
     "output_type": "stream",
     "text": [
      "100%|█████████████████████████████████████████| 330/330 [00:49<00:00,  6.62it/s]\n"
     ]
    },
    {
     "name": "stdout",
     "output_type": "stream",
     "text": [
      "32.0 (1405, 1400, 1403, 1605)\n"
     ]
    },
    {
     "name": "stderr",
     "output_type": "stream",
     "text": [
      "100%|█████████████████████████████████████████████| 1/1 [00:00<00:00, 54.92it/s]\n"
     ]
    },
    {
     "name": "stdout",
     "output_type": "stream",
     "text": [
      "33.0 (1243, 1404)\n"
     ]
    },
    {
     "name": "stderr",
     "output_type": "stream",
     "text": [
      "100%|█████████████████████████████████████████| 330/330 [00:53<00:00,  6.15it/s]\n"
     ]
    },
    {
     "name": "stdout",
     "output_type": "stream",
     "text": [
      "37.0 (1596, 1373, 1372, 1376)\n"
     ]
    },
    {
     "name": "stderr",
     "output_type": "stream",
     "text": [
      "100%|█████████████████████████████████████████████| 5/5 [00:00<00:00, 17.64it/s]\n"
     ]
    },
    {
     "name": "stdout",
     "output_type": "stream",
     "text": [
      "38.0 (1375, 1383, 1339, 1338)\n"
     ]
    },
    {
     "name": "stderr",
     "output_type": "stream",
     "text": [
      "100%|█████████████████████████████████████████████| 4/4 [00:00<00:00, 36.58it/s]\n"
     ]
    },
    {
     "name": "stdout",
     "output_type": "stream",
     "text": [
      "39.0.1 (1344,)\n"
     ]
    },
    {
     "name": "stderr",
     "output_type": "stream",
     "text": [
      "100%|█████████████████████████████████████████| 120/120 [00:23<00:00,  5.00it/s]\n"
     ]
    },
    {
     "name": "stdout",
     "output_type": "stream",
     "text": [
      "39.0.2 (1177, 1342, 1176)\n"
     ]
    },
    {
     "name": "stderr",
     "output_type": "stream",
     "text": [
      "100%|█████████████████████████████████████████| 351/351 [04:45<00:00,  1.23it/s]\n"
     ]
    },
    {
     "name": "stdout",
     "output_type": "stream",
     "text": [
      "40.0.12 (1005, 1103)\n"
     ]
    },
    {
     "name": "stderr",
     "output_type": "stream",
     "text": [
      "100%|█████████████████████████████████████████| 231/231 [01:59<00:00,  1.94it/s]\n"
     ]
    },
    {
     "name": "stdout",
     "output_type": "stream",
     "text": [
      "40.0.15 (1391, 1036)\n"
     ]
    },
    {
     "name": "stderr",
     "output_type": "stream",
     "text": [
      "100%|█████████████████████████████████████████| 435/435 [03:26<00:00,  2.11it/s]\n"
     ]
    },
    {
     "name": "stdout",
     "output_type": "stream",
     "text": [
      "40.0.16 (1213, 1197)\n"
     ]
    },
    {
     "name": "stderr",
     "output_type": "stream",
     "text": [
      "100%|███████████████████████████████████████████| 91/91 [00:34<00:00,  2.66it/s]\n"
     ]
    },
    {
     "name": "stdout",
     "output_type": "stream",
     "text": [
      "40.0.4 (1163, 1504)\n"
     ]
    },
    {
     "name": "stderr",
     "output_type": "stream",
     "text": [
      "100%|█████████████████████████████████████████████| 2/2 [00:00<00:00, 50.46it/s]\n"
     ]
    },
    {
     "name": "stdout",
     "output_type": "stream",
     "text": [
      "40.0.5 (1174,)\n"
     ]
    },
    {
     "name": "stderr",
     "output_type": "stream",
     "text": [
      "100%|█████████████████████████████████████████████| 2/2 [00:00<00:00, 16.01it/s]\n"
     ]
    },
    {
     "name": "stdout",
     "output_type": "stream",
     "text": [
      "40.0.6 (1554,)\n"
     ]
    },
    {
     "name": "stderr",
     "output_type": "stream",
     "text": [
      "100%|███████████████████████████████████████████| 78/78 [00:51<00:00,  1.51it/s]\n"
     ]
    },
    {
     "name": "stdout",
     "output_type": "stream",
     "text": [
      "40.0.7 (1041, 1414)\n"
     ]
    },
    {
     "name": "stderr",
     "output_type": "stream",
     "text": [
      "100%|█████████████████████████████████████████| 190/190 [02:51<00:00,  1.11it/s]\n"
     ]
    },
    {
     "name": "stdout",
     "output_type": "stream",
     "text": [
      "40.0.8.3 (1521, 1001)\n"
     ]
    },
    {
     "name": "stderr",
     "output_type": "stream",
     "text": [
      "100%|█████████████████████████████████████████| 435/435 [05:57<00:00,  1.22it/s]\n"
     ]
    },
    {
     "name": "stdout",
     "output_type": "stream",
     "text": [
      "40.0.8.4 (1356, 1416)\n"
     ]
    },
    {
     "name": "stderr",
     "output_type": "stream",
     "text": [
      "100%|███████████████████████████████████████████| 22/22 [00:02<00:00,  8.03it/s]\n"
     ]
    },
    {
     "name": "stdout",
     "output_type": "stream",
     "text": [
      "41.0.1.2.1 (1461,)\n"
     ]
    },
    {
     "name": "stderr",
     "output_type": "stream",
     "text": [
      "100%|███████████████████████████████████████████| 16/16 [00:02<00:00,  7.93it/s]\n"
     ]
    },
    {
     "name": "stdout",
     "output_type": "stream",
     "text": [
      "41.0.1.2.2 (1491,)\n"
     ]
    },
    {
     "name": "stderr",
     "output_type": "stream",
     "text": [
      "100%|█████████████████████████████████████████| 210/210 [02:32<00:00,  1.37it/s]\n"
     ]
    },
    {
     "name": "stdout",
     "output_type": "stream",
     "text": [
      "41.0.10 (1087, 1098)\n"
     ]
    },
    {
     "name": "stderr",
     "output_type": "stream",
     "text": [
      "100%|█████████████████████████████████████████████| 1/1 [00:00<00:00, 64.91it/s]\n"
     ]
    },
    {
     "name": "stdout",
     "output_type": "stream",
     "text": [
      "41.0.12 (1533,)\n"
     ]
    },
    {
     "name": "stderr",
     "output_type": "stream",
     "text": [
      "100%|███████████████████████████████████████████| 27/27 [00:07<00:00,  3.42it/s]\n"
     ]
    },
    {
     "name": "stdout",
     "output_type": "stream",
     "text": [
      "41.0.5.1 (1493,)\n"
     ]
    },
    {
     "name": "stderr",
     "output_type": "stream",
     "text": [
      "100%|███████████████████████████████████████████| 18/18 [00:04<00:00,  3.82it/s]\n"
     ]
    },
    {
     "name": "stdout",
     "output_type": "stream",
     "text": [
      "41.0.5.2 (1480,)\n"
     ]
    },
    {
     "name": "stderr",
     "output_type": "stream",
     "text": [
      "100%|███████████████████████████████████████████| 12/12 [00:01<00:00,  7.32it/s]\n"
     ]
    },
    {
     "name": "stdout",
     "output_type": "stream",
     "text": [
      "41.0.5.3 (1009,)\n"
     ]
    },
    {
     "name": "stderr",
     "output_type": "stream",
     "text": [
      "100%|███████████████████████████████████████████| 16/16 [00:01<00:00,  8.08it/s]\n"
     ]
    },
    {
     "name": "stdout",
     "output_type": "stream",
     "text": [
      "41.0.5.4 (1097,)\n"
     ]
    },
    {
     "name": "stderr",
     "output_type": "stream",
     "text": [
      "100%|███████████████████████████████████████████| 12/12 [00:01<00:00, 10.03it/s]\n"
     ]
    },
    {
     "name": "stdout",
     "output_type": "stream",
     "text": [
      "41.0.6 (1352,)\n"
     ]
    },
    {
     "name": "stderr",
     "output_type": "stream",
     "text": [
      "100%|█████████████████████████████████████████████| 3/3 [00:00<00:00, 64.51it/s]\n"
     ]
    },
    {
     "name": "stdout",
     "output_type": "stream",
     "text": [
      "41.0.7 (1291,)\n"
     ]
    },
    {
     "name": "stderr",
     "output_type": "stream",
     "text": [
      "100%|███████████████████████████████████████████| 20/20 [00:03<00:00,  5.15it/s]\n"
     ]
    },
    {
     "name": "stdout",
     "output_type": "stream",
     "text": [
      "41.0.9 (1053,)\n"
     ]
    },
    {
     "name": "stderr",
     "output_type": "stream",
     "text": [
      "100%|█████████████████████████████████████████████| 5/5 [00:00<00:00, 62.74it/s]\n"
     ]
    },
    {
     "name": "stdout",
     "output_type": "stream",
     "text": [
      "42.0.2 (1218,)\n"
     ]
    },
    {
     "name": "stderr",
     "output_type": "stream",
     "text": [
      "100%|█████████████████████████████████████████| 165/165 [00:15<00:00, 10.46it/s]\n"
     ]
    },
    {
     "name": "stdout",
     "output_type": "stream",
     "text": [
      "42.0.3 (1221, 1230, 1228)\n"
     ]
    },
    {
     "name": "stderr",
     "output_type": "stream",
     "text": [
      "100%|█████████████████████████████████████████████| 1/1 [00:00<00:00, 86.99it/s]\n"
     ]
    },
    {
     "name": "stdout",
     "output_type": "stream",
     "text": [
      "43.0 (1532,)\n"
     ]
    },
    {
     "name": "stderr",
     "output_type": "stream",
     "text": [
      "100%|█████████████████████████████████████████████| 1/1 [00:00<00:00, 63.29it/s]\n"
     ]
    },
    {
     "name": "stdout",
     "output_type": "stream",
     "text": [
      "50.0 (1528,)\n"
     ]
    },
    {
     "name": "stderr",
     "output_type": "stream",
     "text": [
      "100%|███████████████████████████████████████████| 15/15 [00:01<00:00,  7.84it/s]\n"
     ]
    },
    {
     "name": "stdout",
     "output_type": "stream",
     "text": [
      "51.0 (1158, 1139, 1157, 1160)\n"
     ]
    },
    {
     "name": "stderr",
     "output_type": "stream",
     "text": [
      "100%|█████████████████████████████████████████████| 3/3 [00:00<00:00, 39.22it/s]\n"
     ]
    },
    {
     "name": "stdout",
     "output_type": "stream",
     "text": [
      "52.0.1 (1257,)\n"
     ]
    },
    {
     "name": "stderr",
     "output_type": "stream",
     "text": [
      "100%|█████████████████████████████████████████| 120/120 [00:45<00:00,  2.61it/s]\n"
     ]
    },
    {
     "name": "stdout",
     "output_type": "stream",
     "text": [
      "52.0.2.1 (1394, 1274)\n"
     ]
    },
    {
     "name": "stderr",
     "output_type": "stream",
     "text": [
      "100%|███████████████████████████████████████████| 10/10 [00:00<00:00, 22.78it/s]\n"
     ]
    },
    {
     "name": "stdout",
     "output_type": "stream",
     "text": [
      "52.0.2.3 (1253,)\n"
     ]
    },
    {
     "name": "stderr",
     "output_type": "stream",
     "text": [
      "100%|█████████████████████████████████████████████| 6/6 [00:00<00:00, 24.01it/s]\n"
     ]
    },
    {
     "name": "stdout",
     "output_type": "stream",
     "text": [
      "52.0.2.4 (1550,)\n"
     ]
    },
    {
     "name": "stderr",
     "output_type": "stream",
     "text": [
      "100%|█████████████████████████████████████████| 286/286 [00:51<00:00,  5.53it/s]\n"
     ]
    },
    {
     "name": "stdout",
     "output_type": "stream",
     "text": [
      "64.0.1 (1013, 1025, 1017)\n"
     ]
    },
    {
     "name": "stderr",
     "output_type": "stream",
     "text": [
      "100%|█████████████████████████████████████████████| 5/5 [00:00<00:00, 50.82it/s]\n"
     ]
    },
    {
     "name": "stdout",
     "output_type": "stream",
     "text": [
      "64.0.3 (1368,)\n"
     ]
    },
    {
     "name": "stderr",
     "output_type": "stream",
     "text": [
      "100%|█████████████████████████████████████████| 126/126 [00:11<00:00, 10.61it/s]\n"
     ]
    },
    {
     "name": "stdout",
     "output_type": "stream",
     "text": [
      "75.0 (1144, 1283, 1147, 1146)\n"
     ]
    },
    {
     "name": "stderr",
     "output_type": "stream",
     "text": [
      "100%|█████████████████████████████████████████████| 5/5 [00:00<00:00, 30.04it/s]\n"
     ]
    },
    {
     "name": "stdout",
     "output_type": "stream",
     "text": [
      "77.0.3.1.1 (1074,)\n"
     ]
    },
    {
     "name": "stderr",
     "output_type": "stream",
     "text": [
      "100%|█████████████████████████████████████████████| 8/8 [00:00<00:00, 28.06it/s]\n"
     ]
    },
    {
     "name": "stdout",
     "output_type": "stream",
     "text": [
      "77.0.3.1.2 (1059,)\n"
     ]
    },
    {
     "name": "stderr",
     "output_type": "stream",
     "text": [
      "100%|███████████████████████████████████████████| 11/11 [00:00<00:00, 35.28it/s]\n"
     ]
    },
    {
     "name": "stdout",
     "output_type": "stream",
     "text": [
      "77.0.3.1.4 (1073,)\n"
     ]
    },
    {
     "name": "stderr",
     "output_type": "stream",
     "text": [
      "100%|████████████████████████████████████████████| 1/1 [00:00<00:00, 101.07it/s]\n"
     ]
    },
    {
     "name": "stdout",
     "output_type": "stream",
     "text": [
      "77.0.4 (1235,)\n"
     ]
    },
    {
     "name": "stderr",
     "output_type": "stream",
     "text": [
      "100%|█████████████████████████████████████████████| 1/1 [00:00<00:00, 28.93it/s]"
     ]
    },
    {
     "name": "stdout",
     "output_type": "stream",
     "text": [
      "78.0 (1232, 1233, 1536, 1234)\n",
      "CPU times: user 32min 48s, sys: 11.5 s, total: 32min 59s\n",
      "Wall time: 33min 1s\n"
     ]
    },
    {
     "name": "stderr",
     "output_type": "stream",
     "text": [
      "\n"
     ]
    }
   ],
   "source": [
    "%%time\n",
    "assign_results = calculate_comb(city_grid_market_list, city_orders)"
   ]
  },
  {
   "cell_type": "code",
   "execution_count": 37,
   "id": "b2aa310c",
   "metadata": {},
   "outputs": [
    {
     "name": "stdout",
     "output_type": "stream",
     "text": [
      "CPU times: user 373 ms, sys: 5.67 ms, total: 379 ms\n",
      "Wall time: 387 ms\n"
     ]
    }
   ],
   "source": [
    "%%time\n",
    "market_district_motor = pd.DataFrame(columns = ['grid_id', 'market_ID','district'])\n",
    "for key in assign_results:\n",
    "    for market in assign_results[key]:\n",
    "        for idx in city_markets.index:\n",
    "            if (city_markets.loc[idx,'market_ID']==market):\n",
    "                market_district_motor.loc[idx,'grid_id'] = key\n",
    "                market_district_motor.loc[idx,'market_ID'] = market\n",
    "                market_district_motor.loc[idx,'district'] = city_markets.loc[idx,'district']\n",
    "market_district_motor_count = market_district_motor.groupby('district').agg({'market_ID':'count'})\n",
    "market_district_motor_count.rename(columns={'market_ID':'motor_count'},inplace=True)\n",
    "market_district_motor_count.reset_index(inplace=True)"
   ]
  },
  {
   "cell_type": "code",
   "execution_count": 38,
   "id": "9adae99f",
   "metadata": {},
   "outputs": [],
   "source": [
    "market_motor_assigned = market_district_motor.drop(columns= ['grid_id'])\n"
   ]
  },
  {
   "cell_type": "code",
   "execution_count": 39,
   "id": "057248b7",
   "metadata": {},
   "outputs": [
    {
     "data": {
      "text/html": [
       "<div>\n",
       "<style scoped>\n",
       "    .dataframe tbody tr th:only-of-type {\n",
       "        vertical-align: middle;\n",
       "    }\n",
       "\n",
       "    .dataframe tbody tr th {\n",
       "        vertical-align: top;\n",
       "    }\n",
       "\n",
       "    .dataframe thead th {\n",
       "        text-align: right;\n",
       "    }\n",
       "</style>\n",
       "<table border=\"1\" class=\"dataframe\">\n",
       "  <thead>\n",
       "    <tr style=\"text-align: right;\">\n",
       "      <th></th>\n",
       "      <th>district</th>\n",
       "      <th>motor_count</th>\n",
       "    </tr>\n",
       "  </thead>\n",
       "  <tbody>\n",
       "    <tr>\n",
       "      <th>0</th>\n",
       "      <td>10000</td>\n",
       "      <td>3</td>\n",
       "    </tr>\n",
       "    <tr>\n",
       "      <th>1</th>\n",
       "      <td>10001</td>\n",
       "      <td>1</td>\n",
       "    </tr>\n",
       "    <tr>\n",
       "      <th>2</th>\n",
       "      <td>10002</td>\n",
       "      <td>1</td>\n",
       "    </tr>\n",
       "    <tr>\n",
       "      <th>3</th>\n",
       "      <td>10003</td>\n",
       "      <td>1</td>\n",
       "    </tr>\n",
       "    <tr>\n",
       "      <th>4</th>\n",
       "      <td>10004</td>\n",
       "      <td>4</td>\n",
       "    </tr>\n",
       "  </tbody>\n",
       "</table>\n",
       "</div>"
      ],
      "text/plain": [
       "   district  motor_count\n",
       "0     10000            3\n",
       "1     10001            1\n",
       "2     10002            1\n",
       "3     10003            1\n",
       "4     10004            4"
      ]
     },
     "execution_count": 39,
     "metadata": {},
     "output_type": "execute_result"
    }
   ],
   "source": [
    "market_district_motor_count.head()"
   ]
  },
  {
   "cell_type": "code",
   "execution_count": 40,
   "id": "6a9d80ff",
   "metadata": {},
   "outputs": [
    {
     "data": {
      "text/html": [
       "<div>\n",
       "<style scoped>\n",
       "    .dataframe tbody tr th:only-of-type {\n",
       "        vertical-align: middle;\n",
       "    }\n",
       "\n",
       "    .dataframe tbody tr th {\n",
       "        vertical-align: top;\n",
       "    }\n",
       "\n",
       "    .dataframe thead th {\n",
       "        text-align: right;\n",
       "    }\n",
       "</style>\n",
       "<table border=\"1\" class=\"dataframe\">\n",
       "  <thead>\n",
       "    <tr style=\"text-align: right;\">\n",
       "      <th></th>\n",
       "      <th>market_ID</th>\n",
       "      <th>district</th>\n",
       "    </tr>\n",
       "  </thead>\n",
       "  <tbody>\n",
       "    <tr>\n",
       "      <th>549</th>\n",
       "      <td>1409</td>\n",
       "      <td>10018</td>\n",
       "    </tr>\n",
       "    <tr>\n",
       "      <th>551</th>\n",
       "      <td>1410</td>\n",
       "      <td>10018</td>\n",
       "    </tr>\n",
       "    <tr>\n",
       "      <th>553</th>\n",
       "      <td>1382</td>\n",
       "      <td>10018</td>\n",
       "    </tr>\n",
       "    <tr>\n",
       "      <th>556</th>\n",
       "      <td>1562</td>\n",
       "      <td>10021</td>\n",
       "    </tr>\n",
       "    <tr>\n",
       "      <th>542</th>\n",
       "      <td>1302</td>\n",
       "      <td>10022</td>\n",
       "    </tr>\n",
       "  </tbody>\n",
       "</table>\n",
       "</div>"
      ],
      "text/plain": [
       "    market_ID district\n",
       "549      1409    10018\n",
       "551      1410    10018\n",
       "553      1382    10018\n",
       "556      1562    10021\n",
       "542      1302    10022"
      ]
     },
     "execution_count": 40,
     "metadata": {},
     "output_type": "execute_result"
    }
   ],
   "source": [
    "market_motor_assigned.head()"
   ]
  },
  {
   "cell_type": "code",
   "execution_count": 41,
   "id": "32e5990d",
   "metadata": {},
   "outputs": [
    {
     "data": {
      "text/plain": [
       "(106, 2)"
      ]
     },
     "execution_count": 41,
     "metadata": {},
     "output_type": "execute_result"
    }
   ],
   "source": [
    "market_motor_assigned.shape"
   ]
  },
  {
   "cell_type": "code",
   "execution_count": 42,
   "id": "b502255c",
   "metadata": {},
   "outputs": [
    {
     "data": {
      "text/plain": [
       "106"
      ]
     },
     "execution_count": 42,
     "metadata": {},
     "output_type": "execute_result"
    }
   ],
   "source": [
    "market_district_motor_count.motor_count.sum()"
   ]
  }
 ],
 "metadata": {
  "kernelspec": {
   "display_name": "Python 3 (ipykernel)",
   "language": "python",
   "name": "python3"
  },
  "language_info": {
   "codemirror_mode": {
    "name": "ipython",
    "version": 3
   },
   "file_extension": ".py",
   "mimetype": "text/x-python",
   "name": "python",
   "nbconvert_exporter": "python",
   "pygments_lexer": "ipython3",
   "version": "3.9.0"
  }
 },
 "nbformat": 4,
 "nbformat_minor": 5
}
